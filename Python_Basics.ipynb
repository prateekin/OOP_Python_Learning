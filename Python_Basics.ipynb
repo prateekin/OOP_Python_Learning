{
  "nbformat": 4,
  "nbformat_minor": 0,
  "metadata": {
    "colab": {
      "name": "Python_Basics.ipynb",
      "provenance": [],
      "include_colab_link": true
    },
    "kernelspec": {
      "display_name": "Python 3",
      "name": "python3"
    },
    "language_info": {
      "name": "python"
    }
  },
  "cells": [
    {
      "cell_type": "markdown",
      "metadata": {
        "id": "view-in-github",
        "colab_type": "text"
      },
      "source": [
        "<a href=\"https://colab.research.google.com/github/prateekin/OOP_Python_Assignments/blob/main/Python_Basics.ipynb\" target=\"_parent\"><img src=\"https://colab.research.google.com/assets/colab-badge.svg\" alt=\"Open In Colab\"/></a>"
      ]
    },
    {
      "cell_type": "markdown",
      "metadata": {
        "id": "-FsdI4f2EFik"
      },
      "source": [
        "Comments"
      ]
    },
    {
      "cell_type": "code",
      "metadata": {
        "colab": {
          "base_uri": "https://localhost:8080/"
        },
        "id": "PZd7pu2yD5es",
        "outputId": "513c2ad7-8dd2-4863-a457-d5e6f5d2fe19"
      },
      "source": [
        "a = 10 # assigns 10 to a\n",
        "print(type(a))"
      ],
      "execution_count": null,
      "outputs": [
        {
          "name": "stdout",
          "output_type": "stream",
          "text": [
            "<class 'int'>\n"
          ]
        }
      ]
    },
    {
      "cell_type": "markdown",
      "metadata": {
        "id": "Vb3CIAmXHdSM"
      },
      "source": [
        "Variables\n"
      ]
    },
    {
      "cell_type": "code",
      "metadata": {
        "colab": {
          "base_uri": "https://localhost:8080/"
        },
        "id": "ZScAYpmqHg4e",
        "outputId": "fa522734-79df-41d5-abd3-f5213dcdff3d"
      },
      "source": [
        "a = 100  \n",
        "b = a  \n",
        "c = 100\n",
        "print(id(a)) \n",
        "print(id(b)) \n",
        "print(id(c))\n",
        "print(a)\n",
        "print(a)\n",
        "# Reassigned variable a  \n",
        "a = 800\n",
        "der = 100\n",
        "print(id(der))  \n",
        "print(id(a))\n",
        "print(a)"
      ],
      "execution_count": null,
      "outputs": [
        {
          "name": "stdout",
          "output_type": "stream",
          "text": [
            "94259698976352\n",
            "94259698976352\n",
            "94259698976352\n",
            "100\n",
            "100\n",
            "94259698976352\n",
            "140065449504688\n",
            "800\n"
          ]
        }
      ]
    },
    {
      "cell_type": "code",
      "metadata": {
        "colab": {
          "base_uri": "https://localhost:8080/"
        },
        "id": "xnmmsQ3VIOcz",
        "outputId": "42bf275f-8404-4822-ced3-48f07d7e1bb3"
      },
      "source": [
        "\n",
        "# Declare a variable and initialize it  \n",
        "x = 200  \n",
        "  \n",
        "# Global variable in function  \n",
        "def mFunction():  \n",
        "    # printing a global variable  \n",
        "    global x  \n",
        "    print(x)  \n",
        "    # modifying a global variable  \n",
        "    x = 'Welcome To OOP'  \n",
        "    print(x)  \n",
        "  \n",
        "mFunction()  \n",
        "print(x)  \n",
        "\n",
        "# del x  \n",
        "print(x)"
      ],
      "execution_count": null,
      "outputs": [
        {
          "name": "stdout",
          "output_type": "stream",
          "text": [
            "200\n",
            "Welcome To OOP\n",
            "Welcome To OOP\n",
            "Welcome To OOP\n"
          ]
        }
      ]
    },
    {
      "cell_type": "markdown",
      "metadata": {
        "id": "3iYyKitZI-Bo"
      },
      "source": [
        "\n",
        "\n",
        "*   Global variables can be used throughout the program, and its scope is in the entire program. We can use global variables inside or outside the function.\n",
        "\n",
        "\n",
        "\n",
        "\n",
        "*   A variable declared outside the function is the global variable by default.\n",
        "*   Python provides the global keyword to use global variable inside the function.\n",
        "\n",
        "\n",
        "*   If we don't use the global keyword, the function treats it as a local variable.\n",
        "\n",
        "\n",
        "\n"
      ]
    },
    {
      "cell_type": "code",
      "metadata": {
        "colab": {
          "base_uri": "https://localhost:8080/"
        },
        "id": "Ig4Npa7YI9cY",
        "outputId": "fe3ddfe4-909c-4ef8-8819-09dfce333a98"
      },
      "source": [
        "s = 'Beautiful palace'\n",
        "print(s[:], \"\\n\")\n",
        "print(s[::],\"\\n\")\n",
        "first_five_chars = s[:5]\n",
        "print(\"First Five characters :\", first_five_chars, \"\\n\")\n",
        "third_to_fifth_chars = s[2:5]\n",
        "print(\"Third_to_fifth_chars:\" ,third_to_fifth_chars, \"\\n\")"
      ],
      "execution_count": null,
      "outputs": [
        {
          "name": "stdout",
          "output_type": "stream",
          "text": [
            "Beautiful palace \n",
            "\n",
            "Beautiful palace \n",
            "\n",
            "First Five characters : Beaut \n",
            "\n",
            "Third_to_fifth_chars: aut \n",
            "\n"
          ]
        }
      ]
    },
    {
      "cell_type": "code",
      "metadata": {
        "colab": {
          "base_uri": "https://localhost:8080/"
        },
        "id": "kt-wUTmhLc9U",
        "outputId": "43a7574f-cadc-46f1-da2b-f60e395fd691"
      },
      "source": [
        "# three different variables a are defined in separate namespaces and accessed \n",
        "\n",
        "def outer_function():\n",
        "    global a\n",
        "    a = 20\n",
        "\n",
        "    def inner_function():\n",
        "        global a\n",
        "        a = 30\n",
        "        print('a =', a)\n",
        "\n",
        "    inner_function()\n",
        "    print('a =', a)\n",
        "\n",
        "\n",
        "a = 10\n",
        "outer_function()\n",
        "print('a =', a)"
      ],
      "execution_count": null,
      "outputs": [
        {
          "name": "stdout",
          "output_type": "stream",
          "text": [
            "a = 30\n",
            "a = 30\n",
            "a = 30\n"
          ]
        }
      ]
    },
    {
      "cell_type": "code",
      "metadata": {
        "colab": {
          "base_uri": "https://localhost:8080/"
        },
        "id": "SC0od8m6L_o0",
        "outputId": "a5c279b3-3712-49fa-cf0a-850f57e55c07"
      },
      "source": [
        "def outer_function():\n",
        "    a = 20\n",
        "\n",
        "    def inner_function():\n",
        "        a = 30\n",
        "        print('a =', a)\n",
        "\n",
        "    inner_function()\n",
        "    print('a =', a)\n",
        "\n",
        "\n",
        "a = 10\n",
        "outer_function()\n",
        "print('a =', a)"
      ],
      "execution_count": null,
      "outputs": [
        {
          "name": "stdout",
          "output_type": "stream",
          "text": [
            "a = 30\n",
            "a = 20\n",
            "a = 10\n"
          ]
        }
      ]
    },
    {
      "cell_type": "code",
      "metadata": {
        "colab": {
          "base_uri": "https://localhost:8080/"
        },
        "id": "9ond6AYsMSUI",
        "outputId": "8ca8c097-1965-42f2-b130-dd2dd620288b"
      },
      "source": [
        "a = 5  \n",
        "print(\"The type of a\", type(a))  \n",
        "  \n",
        "b = 50.5  \n",
        "print(\"The type of b\", type(b))  \n",
        "  \n",
        "c = 1+3j  \n",
        "print(\"The type of c\", type(c))  \n",
        "print(\" c is a complex number\", isinstance(1+3j,complex))"
      ],
      "execution_count": null,
      "outputs": [
        {
          "name": "stdout",
          "output_type": "stream",
          "text": [
            "The type of a <class 'int'>\n",
            "The type of b <class 'float'>\n",
            "The type of c <class 'complex'>\n",
            " c is a complex number True\n"
          ]
        }
      ]
    },
    {
      "cell_type": "code",
      "metadata": {
        "colab": {
          "base_uri": "https://localhost:8080/"
        },
        "id": "uy_lsR2lwlgI",
        "outputId": "636ffb1f-f6da-4f0c-8d39-f05ea7384b4c"
      },
      "source": [
        "a=100  \n",
        "Str1 =\"We are learning Python\"  \n",
        "c = 20.5  \n",
        "print(type(a))  \n",
        "print(type(Str1))  \n",
        "print(type(c))\n"
      ],
      "execution_count": null,
      "outputs": [
        {
          "name": "stdout",
          "output_type": "stream",
          "text": [
            "<class 'int'>\n",
            "<class 'str'>\n",
            "<class 'float'>\n"
          ]
        }
      ]
    },
    {
      "cell_type": "code",
      "metadata": {
        "colab": {
          "background_save": true
        },
        "id": "LA41zuP5_IKm",
        "outputId": "0d980f86-c172-425c-826c-5611da9a2c1f"
      },
      "source": [
        "a = 5  \n",
        "print(\"The type of a\", type(a))  \n",
        "  \n",
        "b = 50.5  \n",
        "print(\"The type of b\", type(b))  \n",
        "  \n",
        "c = 1+3j  \n",
        "print(\"The type of c\", type(c))  \n",
        "print(\" c is a complex number\", isinstance(1+3j,complex))"
      ],
      "execution_count": null,
      "outputs": [
        {
          "name": "stdout",
          "output_type": "stream",
          "text": [
            "The type of a <class 'int'>\n",
            "The type of b <class 'float'>\n",
            "The type of c <class 'complex'>\n",
            " c is a complex number True\n"
          ]
        }
      ]
    },
    {
      "cell_type": "code",
      "metadata": {
        "colab": {
          "background_save": true
        },
        "id": "Pgkx6gak_Tx1",
        "outputId": "2b1c7585-1ff2-47b1-c2f5-164787ea6b70"
      },
      "source": [
        "str = \"This sentence has  double quotes\"  \n",
        "print(str)  \n",
        "s1 = '''''This line has multiline \n",
        "string'''  \n",
        "print(s1)"
      ],
      "execution_count": null,
      "outputs": [
        {
          "name": "stdout",
          "output_type": "stream",
          "text": [
            "This sentence has  double quotes\n",
            "''This line has multiline \n",
            "string\n"
          ]
        }
      ]
    },
    {
      "cell_type": "code",
      "metadata": {
        "colab": {
          "background_save": true
        },
        "id": "fHtI-I8q_ZZH",
        "outputId": "f644c1be-3c23-48ea-8521-d2f3396bd21d"
      },
      "source": [
        "list1  = [1, \"hi\", \"Python\", 2]    \n",
        "#Checking type of given list  \n",
        "print(type(list1))  \n",
        "  \n",
        "#Printing the list1  \n",
        "print (list1)  \n",
        "  \n",
        "# List slicing  \n",
        "print (list1[3:])  \n",
        "  \n",
        "# List slicing  \n",
        "print (list1[0:2])   \n",
        "  \n",
        "# List Concatenation using + operator  \n",
        "print (list1 + list1)  \n",
        "  \n",
        "# List repetation using * operator  \n",
        "print (list1 * 3)"
      ],
      "execution_count": null,
      "outputs": [
        {
          "name": "stdout",
          "output_type": "stream",
          "text": [
            "<class 'list'>\n",
            "[1, 'hi', 'Python', 2]\n",
            "[2]\n",
            "[1, 'hi']\n",
            "[1, 'hi', 'Python', 2, 1, 'hi', 'Python', 2]\n",
            "[1, 'hi', 'Python', 2, 1, 'hi', 'Python', 2, 1, 'hi', 'Python', 2]\n"
          ]
        }
      ]
    },
    {
      "cell_type": "code",
      "metadata": {
        "colab": {
          "base_uri": "https://localhost:8080/",
          "height": 296
        },
        "id": "LpFpgKgpAJ4G",
        "outputId": "d455708c-afe8-4e9b-9787-f8f39a106d88"
      },
      "source": [
        "tup  = (\"hi\", \"Python\", 2)    \n",
        "# Checking type of tup  \n",
        "print (type(tup))    \n",
        "  \n",
        "#Printing the tuple  \n",
        "print (tup)  \n",
        "  \n",
        "# Tuple slicing  \n",
        "print (tup[1:])    \n",
        "print (tup[0:1])    \n",
        "  \n",
        "# Tuple concatenation using + operator  \n",
        "print (tup + tup)    \n",
        "  \n",
        "# Tuple repatation using * operator  \n",
        "print (tup * 3)     \n",
        "  \n",
        "# Adding value to tup. It will throw an error.  \n",
        "tup[2] = \"hi\""
      ],
      "execution_count": null,
      "outputs": [
        {
          "output_type": "stream",
          "text": [
            "<class 'tuple'>\n",
            "('hi', 'Python', 2)\n",
            "('Python', 2)\n",
            "('hi',)\n",
            "('hi', 'Python', 2, 'hi', 'Python', 2)\n",
            "('hi', 'Python', 2, 'hi', 'Python', 2, 'hi', 'Python', 2)\n"
          ],
          "name": "stdout"
        },
        {
          "output_type": "error",
          "ename": "TypeError",
          "evalue": "ignored",
          "traceback": [
            "\u001b[0;31m---------------------------------------------------------------------------\u001b[0m",
            "\u001b[0;31mTypeError\u001b[0m                                 Traceback (most recent call last)",
            "\u001b[0;32m<ipython-input-15-3988370eb402>\u001b[0m in \u001b[0;36m<module>\u001b[0;34m()\u001b[0m\n\u001b[1;32m     17\u001b[0m \u001b[0;34m\u001b[0m\u001b[0m\n\u001b[1;32m     18\u001b[0m \u001b[0;31m# Adding value to tup. It will throw an error.\u001b[0m\u001b[0;34m\u001b[0m\u001b[0;34m\u001b[0m\u001b[0;34m\u001b[0m\u001b[0m\n\u001b[0;32m---> 19\u001b[0;31m \u001b[0mtup\u001b[0m\u001b[0;34m[\u001b[0m\u001b[0;36m2\u001b[0m\u001b[0;34m]\u001b[0m \u001b[0;34m=\u001b[0m \u001b[0;34m\"hi\"\u001b[0m\u001b[0;34m\u001b[0m\u001b[0;34m\u001b[0m\u001b[0m\n\u001b[0m",
            "\u001b[0;31mTypeError\u001b[0m: 'tuple' object does not support item assignment"
          ]
        }
      ]
    },
    {
      "cell_type": "code",
      "metadata": {
        "colab": {
          "background_save": true
        },
        "id": "2YZ-x3NVAPzE"
      },
      "source": [
        "dict = {1:'Karnataka', 2:'Kerala', 3:'UP', 4:'Punjab'}     \n",
        "  \n",
        "# Printing dictionary  \n",
        "print (dict)  \n",
        "  \n",
        "# Accesing value using keys  \n",
        "print(\"1st name is \"+dict[1])   \n",
        "print(\"2nd name is \"+ dict[4])    \n",
        "  \n",
        "print (dict.keys())    \n",
        "print (dict.values())"
      ],
      "execution_count": null,
      "outputs": []
    },
    {
      "cell_type": "code",
      "metadata": {
        "colab": {
          "background_save": true
        },
        "id": "T8x6FHBvAX_x"
      },
      "source": [
        "# Python program to check the boolean type  \n",
        "\n",
        "print(type(True))  \n",
        "print(type(False))  \n",
        "print(false)"
      ],
      "execution_count": null,
      "outputs": []
    },
    {
      "cell_type": "code",
      "metadata": {
        "colab": {
          "background_save": true
        },
        "id": "ycewvJ1qAYyF"
      },
      "source": [
        "# Creating Empty set  \n",
        "set1 = set()  \n",
        "  \n",
        "set2 = {'India', 20.4, 100,'OOP'}  \n",
        "  \n",
        "#Printing Set value  \n",
        "print(set2)  \n",
        "  \n",
        "# Adding element to the set  \n",
        "  \n",
        "set2.add(10)  \n",
        "print(set2)  \n",
        "  \n",
        "#Removing element from the set  \n",
        "set2.remove(2)  \n",
        "print(set2)"
      ],
      "execution_count": null,
      "outputs": []
    },
    {
      "cell_type": "code",
      "metadata": {
        "colab": {
          "background_save": true
        },
        "id": "n3x5Oym7BDQ4"
      },
      "source": [
        "m = 15\n",
        "n = 4\n",
        "\n",
        "# Output: m + n = 19\n",
        "print('m + n =',m+n)\n",
        "\n",
        "# Output: m - n = 11\n",
        "print('m - n =',m-n)\n",
        "\n",
        "# Output: m * n = 60\n",
        "print('m * n =',m*n)\n",
        "\n",
        "# Output: m / n = 3.75\n",
        "print('m / n =',m/n)\n",
        "\n",
        "# Output: m // n = 3\n",
        "print('m // n =',m//n)\n",
        "\n",
        "# Output: m ** n = 50625\n",
        "print('m ** n =',m**n)"
      ],
      "execution_count": null,
      "outputs": []
    },
    {
      "cell_type": "code",
      "metadata": {
        "colab": {
          "background_save": true
        },
        "id": "Y89EUN4NBRwf"
      },
      "source": [
        "a = 10\n",
        "b = 12\n",
        "\n",
        "# Output: a > b is False\n",
        "print('a > b is',a>b)\n",
        "\n",
        "# Output: a < b is True\n",
        "print('a < b is',a<b)\n",
        "\n",
        "# Output: a == b is False\n",
        "print('a == b is',a==b)\n",
        "\n",
        "# Output: a != b is True\n",
        "print('a != b is',a!=b)\n",
        "\n",
        "# Output: a >= b is False\n",
        "print('a >= b is',a>=b)\n",
        "\n",
        "# Output: a <= b is True\n",
        "print('a <= b is',a<=b)"
      ],
      "execution_count": null,
      "outputs": []
    },
    {
      "cell_type": "code",
      "metadata": {
        "colab": {
          "base_uri": "https://localhost:8080/"
        },
        "id": "odI38b8aBSXn",
        "outputId": "0b46efac-8d23-44a5-d1e6-2707549544a8"
      },
      "source": [
        "m = True\n",
        "n = False\n",
        "\n",
        "print('m and n is',m and n)\n",
        "\n",
        "print('x or y is',x or y)\n",
        "\n",
        "print('not x is',not x)"
      ],
      "execution_count": null,
      "outputs": [
        {
          "output_type": "stream",
          "text": [
            "m and n is False\n",
            "x or y is Hello world\n",
            "not x is False\n"
          ],
          "name": "stdout"
        }
      ]
    },
    {
      "cell_type": "code",
      "metadata": {
        "colab": {
          "base_uri": "https://localhost:8080/"
        },
        "id": "T9Uh-P1IB0zX",
        "outputId": "d7110adf-77e5-4d45-8a74-52c15083f361"
      },
      "source": [
        "x=10\n",
        "y= 4\n",
        "# x & y = 0(0000 0000)\n",
        "# x ^ y = 14 (0000 1110)\n",
        "# x << 2 = 40 (0010 1000)\n",
        "# x >> 2 = 2 (0000 0010)\n",
        "print(x^y)"
      ],
      "execution_count": null,
      "outputs": [
        {
          "output_type": "stream",
          "text": [
            "14\n"
          ],
          "name": "stdout"
        }
      ]
    },
    {
      "cell_type": "code",
      "metadata": {
        "colab": {
          "base_uri": "https://localhost:8080/"
        },
        "id": "Kw7wfK1LB1ee",
        "outputId": "e7edc69e-c239-40de-d5cb-4d73a59782e5"
      },
      "source": [
        "a=2\n",
        "a += 5\n",
        "a %= 5\n",
        "a **= 5\n",
        "a //= 5\n",
        "print(a)"
      ],
      "execution_count": null,
      "outputs": [
        {
          "output_type": "stream",
          "text": [
            "6\n"
          ],
          "name": "stdout"
        }
      ]
    },
    {
      "cell_type": "code",
      "metadata": {
        "colab": {
          "base_uri": "https://localhost:8080/"
        },
        "id": "2iSA9_-_B926",
        "outputId": "9ed1fcae-2916-487e-b9aa-ec5f2de8c5fe"
      },
      "source": [
        "x1 = 10\n",
        "y1 = 10\n",
        "x2 = 'Welcome'\n",
        "y2 = 'Welcome'\n",
        "x3 = [10,20,30]\n",
        "y3 = [10,20,30]\n",
        "\n",
        "# Output: False\n",
        "print(x1 is not y1)\n",
        "\n",
        "# Output: True\n",
        "print(x2 is y2)\n",
        "\n",
        "# Output: False\n",
        "print(x3 is y3)"
      ],
      "execution_count": null,
      "outputs": [
        {
          "output_type": "stream",
          "text": [
            "False\n",
            "True\n",
            "False\n"
          ],
          "name": "stdout"
        }
      ]
    },
    {
      "cell_type": "code",
      "metadata": {
        "colab": {
          "base_uri": "https://localhost:8080/"
        },
        "id": "tO4U98VfB-q-",
        "outputId": "2dcbe0a1-becd-44f7-f957-e35f8317349d"
      },
      "source": [
        "x = 'Hello world'\n",
        "y = {1:'a',2:'b'}\n",
        "\n",
        "# Output: True\n",
        "print('H' in x)\n",
        "\n",
        "# Output: True\n",
        "print('hello' not in x)\n",
        "\n",
        "# Output: True\n",
        "print(1 in y)\n",
        "\n",
        "# Output: False\n",
        "print('a' in y)"
      ],
      "execution_count": null,
      "outputs": [
        {
          "output_type": "stream",
          "text": [
            "True\n",
            "True\n",
            "True\n",
            "False\n"
          ],
          "name": "stdout"
        }
      ]
    },
    {
      "cell_type": "code",
      "metadata": {
        "colab": {
          "base_uri": "https://localhost:8080/"
        },
        "id": "N4FiQF_-CCjv",
        "outputId": "1394a4d5-88bc-4b96-8f9f-a186aae7ef62"
      },
      "source": [
        "# If the number is positive, we print an appropriate message\n",
        "\n",
        "# Python if... Statement - 1 option\n",
        "num = 30\n",
        "if num > 0:\n",
        "    print(num, \"is a positive number.\")\n",
        "print(\"printed number status.\")\n",
        "\n",
        "# Python if...else Statement  - 2 option\n",
        "if num >= 0:\n",
        "    print(\"Positive or Zero\")\n",
        "else:\n",
        "    print(\"Negative number\")\n",
        "\n",
        "# Python if...elif...else Statement - 3 Option\n",
        "if num > 0:\n",
        "    print(\"Positive number\")\n",
        "elif num == 0:\n",
        "    print(\"Zero\")\n",
        "else:\n",
        "    print(\"Negative number\")"
      ],
      "execution_count": null,
      "outputs": [
        {
          "output_type": "stream",
          "text": [
            "30 is a positive number.\n",
            "printed number status.\n",
            "Positive or Zero\n",
            "Positive number\n"
          ],
          "name": "stdout"
        }
      ]
    },
    {
      "cell_type": "code",
      "metadata": {
        "colab": {
          "base_uri": "https://localhost:8080/"
        },
        "id": "3n27AB0yCOQq",
        "outputId": "dc53b849-8737-44da-e146-bc243d5ea8bd"
      },
      "source": [
        "num = float(input(\"Enter a number: \"))\n",
        "\n",
        "if num >= 0:\n",
        "    if num == 0:\n",
        "        print(\"Zero\")\n",
        "    else:\n",
        "        print(\"Positive number\")\n",
        "else:\n",
        "    print(\"Negative number\")"
      ],
      "execution_count": null,
      "outputs": [
        {
          "output_type": "stream",
          "text": [
            "Enter a number: 3\n",
            "Positive number\n"
          ],
          "name": "stdout"
        }
      ]
    },
    {
      "cell_type": "code",
      "metadata": {
        "colab": {
          "base_uri": "https://localhost:8080/"
        },
        "id": "CE3Ew4NjCS8i",
        "outputId": "7815399f-5f06-4726-a20b-50113fb34a2c"
      },
      "source": [
        "# Program to find the sum of all numbers stored in a list\n",
        "\n",
        "# List of numbers\n",
        "numbers = [60, 25, 33, 85, 40, 22, 55, 43, 51]\n",
        "\n",
        "# variable to store the sum\n",
        "sum = 0\n",
        "\n",
        "# iterate over the list\n",
        "for val in numbers:\n",
        "    sum = sum+val\n",
        "\n",
        "print(\"The sum is\", sum)"
      ],
      "execution_count": null,
      "outputs": [
        {
          "output_type": "stream",
          "text": [
            "The sum is 414\n"
          ],
          "name": "stdout"
        }
      ]
    },
    {
      "cell_type": "code",
      "metadata": {
        "colab": {
          "base_uri": "https://localhost:8080/"
        },
        "id": "5jG2G7B5CW-W",
        "outputId": "20218a31-0585-4464-fae3-243ea489296c"
      },
      "source": [
        "# Program to iterate through a list using indexing\n",
        "\n",
        "music = ['pop', 'rock', 'jazz','classic']\n",
        "\n",
        "# iterate over the list using index\n",
        "\n",
        "for i in range(len(music)):\n",
        "    print(\"I like\", music[i])\n",
        "\n",
        "#combined with the len() function to iterate through a sequence using indexing."
      ],
      "execution_count": null,
      "outputs": [
        {
          "output_type": "stream",
          "text": [
            "I like pop\n",
            "I like rock\n",
            "I like jazz\n",
            "I like classic\n"
          ],
          "name": "stdout"
        }
      ]
    },
    {
      "cell_type": "code",
      "metadata": {
        "colab": {
          "base_uri": "https://localhost:8080/"
        },
        "id": "iFL5WUzzCkLG",
        "outputId": "98599565-f90e-405c-fa16-d345ea919e63"
      },
      "source": [
        "# program to display student's marks from record\n",
        "student_name = 'Soyuj'\n",
        "\n",
        "marks = {'James': 90, 'Jules': 55, 'Arthur': 77}\n",
        "\n",
        "for student in marks:\n",
        "    if student == student_name:\n",
        "        print(marks[student])\n",
        "        break\n",
        "else:\n",
        "    print('No entry with that name found.')\n",
        "\n",
        "\n",
        "# Use of break statement inside the loop\n",
        "\n",
        "for val in \"string\":\n",
        "    if val == \"i\":\n",
        "        break\n",
        "    print(val)\n",
        "\n",
        "print(\"The end\")\n",
        "\n",
        "\n",
        "# Program to show the use of continue statement inside loops\n",
        "\n",
        "for val in \"string\":\n",
        "    if val == \"i\":\n",
        "        continue\n",
        "    print(val)\n",
        "\n",
        "print(\"The end\")"
      ],
      "execution_count": null,
      "outputs": [
        {
          "output_type": "stream",
          "text": [
            "No entry with that name found.\n",
            "s\n",
            "t\n",
            "r\n",
            "The end\n",
            "s\n",
            "t\n",
            "r\n",
            "n\n",
            "g\n",
            "The end\n"
          ],
          "name": "stdout"
        }
      ]
    },
    {
      "cell_type": "code",
      "metadata": {
        "id": "3jtV92I5Ck2J",
        "colab": {
          "base_uri": "https://localhost:8080/"
        },
        "outputId": "ac1df58a-c292-4000-fc67-b8db9ecab885"
      },
      "source": [
        "# To take input from the user,\n",
        "# n = int(input(\"Enter n: \"))\n",
        "\n",
        "n = 10\n",
        "\n",
        "# initialize sum and counter\n",
        "sum = 0\n",
        "i = 1\n",
        "\n",
        "while i <= n:\n",
        "    sum = sum + i\n",
        "    i = i+1    # update counter\n",
        "\n",
        "# print the sum\n",
        "print(\"The sum is\", sum)\n",
        "\n",
        "\n",
        "# While loop with else\n",
        "\n",
        "'''Example to illustrate\n",
        "the use of else statement\n",
        "with the while loop'''\n",
        "\n",
        "counter = 0\n",
        "\n",
        "while counter < 3:\n",
        "    print(\"Inside loop\")\n",
        "    counter = counter + 1\n",
        "else:\n",
        "    print(\"Inside else\")"
      ],
      "execution_count": null,
      "outputs": [
        {
          "output_type": "stream",
          "text": [
            "The sum is 55\n",
            "Inside loop\n",
            "Inside loop\n",
            "Inside loop\n",
            "Inside else\n"
          ],
          "name": "stdout"
        }
      ]
    }
  ]
}