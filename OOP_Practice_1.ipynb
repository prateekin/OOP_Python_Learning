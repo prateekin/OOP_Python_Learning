{
  "nbformat": 4,
  "nbformat_minor": 5,
  "metadata": {
    "kernelspec": {
      "display_name": "Python 3",
      "language": "python",
      "name": "python3"
    },
    "language_info": {
      "codemirror_mode": {
        "name": "ipython",
        "version": 3
      },
      "file_extension": ".py",
      "mimetype": "text/x-python",
      "name": "python",
      "nbconvert_exporter": "python",
      "pygments_lexer": "ipython3",
      "version": "3.8.8"
    },
    "colab": {
      "name": "OOP Practice_1.ipynb",
      "provenance": [],
      "include_colab_link": true
    }
  },
  "cells": [
    {
      "cell_type": "markdown",
      "metadata": {
        "id": "view-in-github",
        "colab_type": "text"
      },
      "source": [
        "<a href=\"https://colab.research.google.com/github/prateekin/OOP_Python_Learning/blob/main/OOP_Practice_1.ipynb\" target=\"_parent\"><img src=\"https://colab.research.google.com/assets/colab-badge.svg\" alt=\"Open In Colab\"/></a>"
      ]
    },
    {
      "cell_type": "code",
      "metadata": {
        "id": "c94fd1fe",
        "outputId": "6d27596a-fbcd-42e3-9ec4-64fa897173a8"
      },
      "source": [
        "print(\"oop\")"
      ],
      "id": "c94fd1fe",
      "execution_count": null,
      "outputs": [
        {
          "name": "stdout",
          "output_type": "stream",
          "text": [
            "oop\n"
          ]
        }
      ]
    },
    {
      "cell_type": "code",
      "metadata": {
        "id": "9b74a8b6",
        "outputId": "d671b329-10d2-44ef-e504-fc28102b3c7f"
      },
      "source": [
        "class country:\n",
        "    def __init__(self,name,code):\n",
        "        self.countryname = name\n",
        "        self.__privaTename = code\n",
        "    def displayName(self):\n",
        "        print(f\"The name of the country is {self.countryname}\")\n",
        "        print(f\"The code of the country is {self.__privaTename} \")\n",
        "\n",
        "c1 = country(\"India\",\"001\")\n",
        "c1.displayName()\n",
        "c2 = country(\"USA\",\"002\")\n",
        "c2.displayName()\n",
        "print(c1.countryname)\n",
        "name = c1.countryname\n",
        "print(name)\n"
      ],
      "id": "9b74a8b6",
      "execution_count": null,
      "outputs": [
        {
          "name": "stdout",
          "output_type": "stream",
          "text": [
            "The name of the country is India\n",
            "The code of the country is 001 \n",
            "The name of the country is USA\n",
            "The code of the country is 002 \n",
            "India\n",
            "India\n"
          ]
        }
      ]
    },
    {
      "cell_type": "code",
      "metadata": {
        "id": "dce8d822",
        "outputId": "b32e7b47-4609-4195-ce3f-b96b406d471a"
      },
      "source": [
        "class car:\n",
        "    __maxspeed = \"320\"\n",
        "    __name = \"Audi A4\"\n",
        "    mileage = \"10\"\n",
        "    def __init__(self):\n",
        "        self.__maxspeed = \"400\"\n",
        "    def display(self):\n",
        "        print(\"The name of the car is \"+self.__name+\" and the maxspeed is \" + self.__maxspeed+\" mileage is \"+self.mileage)\n",
        "car1 = car()\n",
        "car1.display()\n",
        "car1.mileage = \"20\" #can change only public variables\n",
        "car1.display()"
      ],
      "id": "dce8d822",
      "execution_count": null,
      "outputs": [
        {
          "name": "stdout",
          "output_type": "stream",
          "text": [
            "The name of the car is Audi A4 and the maxspeed is 400 mileage is 10\n",
            "The name of the car is Audi A4 and the maxspeed is 400 mileage is 20\n"
          ]
        }
      ]
    },
    {
      "cell_type": "code",
      "metadata": {
        "id": "ca3b76fb",
        "outputId": "b8d274f7-4b97-40f3-dc77-e9f19d60967d"
      },
      "source": [
        "class base:\n",
        "    def __init__(self):\n",
        "        self.a = \"IIIT Dharwad\"\n",
        "        self.__b = \"Karnataka\"\n",
        "    def display(self):\n",
        "        print(f\"The name is {self.a} and the state is {self.__b}\")\n",
        "class derived(base):\n",
        "    def __init__(self):\n",
        "        base.__init__(self)\n",
        "        print(\"calling members of base class\")\n",
        "#         print(self.__b)\n",
        "        \n",
        "c = derived()"
      ],
      "id": "ca3b76fb",
      "execution_count": null,
      "outputs": [
        {
          "name": "stdout",
          "output_type": "stream",
          "text": [
            "calling members of base class\n"
          ]
        }
      ]
    },
    {
      "cell_type": "code",
      "metadata": {
        "id": "05e3c06b",
        "outputId": "63e7cda4-3407-4286-fa92-fa8b0d60ba82"
      },
      "source": [
        "\n",
        "# Python program to demonstrate private members\n",
        " \n",
        "# Creating a Base class\n",
        "class Base:\n",
        "    def __init__(self):\n",
        "        self.a = \"OOP Course\"\n",
        "        self.__c = \"IIIT DWD\"\n",
        "# Creating a derived class\n",
        "class Derived(Base):\n",
        "    def __init__(self):   \n",
        "        # Calling constructor of Base class\n",
        "        Base.__init__(self)\n",
        "        print(\"Calling private member of base class: \")\n",
        "        print(self.a)\n",
        "# Driver code\n",
        "obj1 = Base()\n",
        "o = Derived()\n"
      ],
      "id": "05e3c06b",
      "execution_count": null,
      "outputs": [
        {
          "name": "stdout",
          "output_type": "stream",
          "text": [
            "Calling private member of base class: \n",
            "OOP Course\n"
          ]
        }
      ]
    },
    {
      "cell_type": "code",
      "metadata": {
        "id": "f2f8e3fc"
      },
      "source": [
        ""
      ],
      "id": "f2f8e3fc",
      "execution_count": null,
      "outputs": []
    }
  ]
}