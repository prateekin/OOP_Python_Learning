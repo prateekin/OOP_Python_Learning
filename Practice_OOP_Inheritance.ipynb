{
  "nbformat": 4,
  "nbformat_minor": 0,
  "metadata": {
    "colab": {
      "name": "Practice_OOP_Inheritance.ipynb",
      "provenance": [],
      "include_colab_link": true
    },
    "kernelspec": {
      "name": "python3",
      "display_name": "Python 3"
    },
    "language_info": {
      "name": "python"
    }
  },
  "cells": [
    {
      "cell_type": "markdown",
      "metadata": {
        "id": "view-in-github",
        "colab_type": "text"
      },
      "source": [
        "<a href=\"https://colab.research.google.com/github/prateekin/OOP_Python_Assignments/blob/main/Practice_OOP_Inheritance.ipynb\" target=\"_parent\"><img src=\"https://colab.research.google.com/assets/colab-badge.svg\" alt=\"Open In Colab\"/></a>"
      ]
    },
    {
      "cell_type": "code",
      "metadata": {
        "id": "kx8_0STwI5pg"
      },
      "source": [
        "# Problem 1: Create a Player class\n",
        "class Player:\n",
        "    MAX_POSITION = 10     # Class attribute   \n",
        "    def __init__(self):\n",
        "      self.position = 0 \n",
        "print(Player.MAX_POSITION)    # instance accessing Class attribute\n",
        "# Create a player p and print its MAX_POSITITON\n",
        "p = Player()\n",
        "print(p.MAX_POSITION)  # what is the oputput?"
      ],
      "execution_count": null,
      "outputs": []
    },
    {
      "cell_type": "markdown",
      "metadata": {
        "id": "la0RUaeEIMTb"
      },
      "source": [
        "### OOP - Inheritance - **Quiz**\n",
        "### P1 -  what will happen if you try to assign another value to a class attribute when accessing it from an instance?"
      ]
    },
    {
      "cell_type": "code",
      "metadata": {
        "id": "h0OOoK8gIQAH"
      },
      "source": [
        "# Problem 2:\n",
        "# Create Players p1 and p2\n",
        "# Print p1.MAX_SPEED and p2.MAX_SPEED\n",
        "# Assign 7 to p1.MAX_SPEED\n",
        "# Print p1.MAX_SPEED and p2.MAX_SPEED\n",
        "# Print Player.MAX_SPEED"
      ],
      "execution_count": null,
      "outputs": []
    },
    {
      "cell_type": "code",
      "metadata": {
        "colab": {
          "base_uri": "https://localhost:8080/"
        },
        "id": "28dJmpUYXmjt",
        "outputId": "ee60b4df-b9a0-495d-845a-9a732b03cfc6"
      },
      "source": [
        "## Problem2 :\n",
        "class Player:\n",
        "    MAX_POSITION = 10     # Class attribute   \n",
        "    def __init__(self):\n",
        "      self.position = 0\n",
        "class Racer(Player):\n",
        "    MAX_SPEED = 5      # adding attributes to Child Class\n",
        "p = Player()\n",
        "r = Racer()\n",
        "# What is the output?\n",
        "Racer.MAX_SPEED = 100\n",
        "# Player.MAX_POSITION = 56 \n",
        "# print(\"p.MAX_SPEED = \", Player.MAX_SPEED)  \n",
        "print(\"r.MAX_SPEED = \", r.MAX_SPEED)\n",
        "\n",
        "print(\"p.MAX_POSITION = \", p.MAX_POSITION)\n",
        "print(\"r.MAX_POSITION = \", r.MAX_POSITION)"
      ],
      "execution_count": null,
      "outputs": [
        {
          "output_type": "stream",
          "name": "stdout",
          "text": [
            "r.MAX_SPEED =  100\n",
            "p.MAX_POSITION =  56\n",
            "r.MAX_POSITION =  56\n"
          ]
        }
      ]
    },
    {
      "cell_type": "code",
      "metadata": {
        "colab": {
          "base_uri": "https://localhost:8080/"
        },
        "id": "2eug9ZMOZLZx",
        "outputId": "75319f83-e809-4605-e98b-436ff6daf2de"
      },
      "source": [
        "# Problem 3: making changes in Child class methods\n",
        "class Employee:\n",
        "    def __init__(self, name, salary=30000):\n",
        "        self.name = name\n",
        "        self.salary = salary\n",
        "    def give_raise(self, amount):\n",
        "        self.salary += amount        \n",
        "class Manager(Employee):\n",
        "    def display(self):\n",
        "        print(\"Manager \", self.name)\n",
        "    def __init__(self, name, salary=50000, project=None):\n",
        "        Employee.__init__(self, name, salary)\n",
        "        self.project = project\n",
        "    def give_raise(self, amount, bonus=1.05): # Add a give_raise method\n",
        "        new_amount = amount * bonus\n",
        "        Employee.give_raise(self, new_amount)  # what is the diff?\n",
        "mngr = Manager(\"Ram\")\n",
        "# print(mngr.salary) # salary is 50000\n",
        "\n",
        "# mngr.give_raise(1000)\n",
        "# print(mngr.salary)   # what is the output? 51050.0\n",
        "mngr.give_raise(1000, bonus=1.03)\n",
        "print(mngr.salary)"
      ],
      "execution_count": null,
      "outputs": [
        {
          "output_type": "stream",
          "name": "stdout",
          "text": [
            "51030.0\n"
          ]
        }
      ]
    },
    {
      "cell_type": "markdown",
      "metadata": {
        "id": "I02uCDC6LUXZ"
      },
      "source": [
        "### Alternative constructors\n",
        "* Python allows  to define class methods as well, using the @classmethod decorator and a special first argument cls. \n",
        "* The main use of class methods is defining methods that return an instance of the class, but aren't using the same code as __init__().\n",
        "Example : \n",
        "* we are  defining  own class for working with dates, BetterDate. The attributes of the class will be year, month, and day. \n",
        "* We want to create another  constructor that creates BetterDate objects given the values for year, month, and day, but you also want to be able to create BetterDate objects from strings like 2020-04-30"
      ]
    },
    {
      "cell_type": "code",
      "metadata": {
        "colab": {
          "base_uri": "https://localhost:8080/"
        },
        "id": "kgcTkrRLMAOS",
        "outputId": "2b50ed72-95e3-4cf2-90a9-8246345db855"
      },
      "source": [
        "# Problem 4: Alternative Constructor \n",
        "class MyDate:\n",
        "    def __init__(self, year, month, day):     # Constructor\n",
        "      # Python allows multiple variable assignments in one line\n",
        "      self.year, self.month, self.day = year, month, day    \n",
        "    # Define a class method from_str\n",
        "    @classmethod\n",
        "    def from_str(cls, datestr):\n",
        "    # Split the string at \"-\" and  convert each part to integer\n",
        "        parts = datestr.split(\"-\")\n",
        "        year, month, day = int(parts[0]), int(parts[1]), int(parts[2])\n",
        "        return cls(year, month, day)       # Return the class instance  \n",
        "bd = MyDate.from_str('2021-09-08')\n",
        "print(bd.year)\n",
        "print(bd.month)\n",
        "print(bd.day)"
      ],
      "execution_count": null,
      "outputs": [
        {
          "output_type": "stream",
          "name": "stdout",
          "text": [
            "2021\n",
            "9\n",
            "8\n"
          ]
        }
      ]
    },
    {
      "cell_type": "code",
      "metadata": {
        "id": "nYTswZ10Nsp7",
        "colab": {
          "base_uri": "https://localhost:8080/"
        },
        "outputId": "47c1fd78-d1e7-4ef3-f78c-950648bb3632"
      },
      "source": [
        "## Problem 5 : Define a subclass \n",
        "class Employee:\n",
        "  MIN_SALARY = 30000    \n",
        "  def __init__(self, name, salary=MIN_SALARY):\n",
        "      self.name = name\n",
        "      if salary >= Employee.MIN_SALARY:\n",
        "        self.salary = salary\n",
        "      else:\n",
        "        self.salary = Employee.MIN_SALARY\n",
        "  def give_raise(self, amount):\n",
        "      self.salary += amount  \n",
        "  def display_details(self):\n",
        "    print(f\"The name is {self.name}\")\n",
        "    print(f\"The salary is {self.salary}\")\n",
        "# Define a new class Manager inheriting from Employee\n",
        "class Manager(Employee):\n",
        "  def __init__(self,name,salary=50000):\n",
        "    Employee.__init__(self,name,salary)\n",
        "  \n",
        "# Define a Manager object or child class \n",
        "mng = Manager(\"XYZ\")\n",
        "mng.display_details()\n",
        "# Print mng's name\n",
        "print(mng.name)"
      ],
      "execution_count": null,
      "outputs": [
        {
          "output_type": "stream",
          "name": "stdout",
          "text": [
            "The name is XYZ\n",
            "The salary is 50000\n",
            "XYZ\n"
          ]
        }
      ]
    },
    {
      "cell_type": "markdown",
      "metadata": {
        "id": "yPlYTxmhOyQB"
      },
      "source": [
        "### Method inheritance"
      ]
    },
    {
      "cell_type": "code",
      "metadata": {
        "id": "EO_5zDDDO4qH"
      },
      "source": [
        "class Employee:\n",
        "    def __init__(self, name, salary=30000):\n",
        "        self.name = name\n",
        "        self.salary = salary\n",
        "    def give_raise(self, amount):\n",
        "        self.salary += amount        \n",
        "class Manager(Employee):\n",
        "  # Add a constructor \n",
        "    def __init__(self, name, salary = 50000):\n",
        "        # Call the parent's constructor   \n",
        "        Employee.__init__(self,name,salary)\n",
        "        # Assign project attribute\n",
        "        ____ \n",
        "    def display(self):\n",
        "        print(\"Manager \", self.name)\n",
        " "
      ],
      "execution_count": null,
      "outputs": []
    },
    {
      "cell_type": "code",
      "metadata": {
        "id": "jdLifzmVPRVn"
      },
      "source": [
        "class Employee:\n",
        "    def __init__(self, name, salary=30000):\n",
        "        self.name = name\n",
        "        self.salary = salary\n",
        "    def give_raise(self, amount):\n",
        "        self.salary += amount       \n",
        "class Manager(Employee):\n",
        "  # Add a constructor \n",
        "    def __init__(self, name, salary=50000, project=None):\n",
        "        Employee.__init__(self, name, salary) # Call the parent's constructor \n",
        "        self.project = project      # Assign project attribute\n",
        "    def display(self):\n",
        "        print(\"Manager \", self.name)\n",
        "  "
      ],
      "execution_count": null,
      "outputs": []
    },
    {
      "cell_type": "markdown",
      "metadata": {
        "id": "6TcV9F15cmcB"
      },
      "source": [
        "### Which of the following statements about inheritance of class attributes is correct?\n",
        "* Class attributes CANNOT be inherited, but new class attributes of the same name CAN be created in a child class.\n",
        "* Class attributes CANNOT be inherited, and new class attributes of the same name CANNOT be created in a child class.\n",
        "* Class attributes CAN be inherited, and the value of class attributes CAN be overwritten in the child class\n",
        "* Class attributes can be inherited, and the value of class attributes CANNOT be overwritten in the child class"
      ]
    }
  ]
}